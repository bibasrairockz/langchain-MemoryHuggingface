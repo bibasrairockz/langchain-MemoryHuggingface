{
 "cells": [
  {
   "cell_type": "markdown",
   "id": "82e4bcce-40dc-4a8e-9cdd-5331c8ede7dd",
   "metadata": {},
   "source": [
    "# Step 01: Downlaod All the Required Libraries"
   ]
  },
  {
   "cell_type": "code",
   "execution_count": 1,
   "id": "6d508f4f-cf61-4d29-acbb-e3b0a3ccb67f",
   "metadata": {},
   "outputs": [
    {
     "name": "stdout",
     "output_type": "stream",
     "text": [
      "Requirement already satisfied: huggingface_hub in c:\\users\\bibas\\anaconda3\\envs\\topenai\\lib\\site-packages (0.21.4)\n",
      "Requirement already satisfied: filelock in c:\\users\\bibas\\anaconda3\\envs\\topenai\\lib\\site-packages (from huggingface_hub) (3.13.1)\n",
      "Requirement already satisfied: fsspec>=2023.5.0 in c:\\users\\bibas\\anaconda3\\envs\\topenai\\lib\\site-packages (from huggingface_hub) (2024.3.1)\n",
      "Requirement already satisfied: requests in c:\\users\\bibas\\anaconda3\\envs\\topenai\\lib\\site-packages (from huggingface_hub) (2.31.0)\n",
      "Requirement already satisfied: tqdm>=4.42.1 in c:\\users\\bibas\\anaconda3\\envs\\topenai\\lib\\site-packages (from huggingface_hub) (4.66.2)\n",
      "Requirement already satisfied: pyyaml>=5.1 in c:\\users\\bibas\\anaconda3\\envs\\topenai\\lib\\site-packages (from huggingface_hub) (6.0.1)\n",
      "Requirement already satisfied: typing-extensions>=3.7.4.3 in c:\\users\\bibas\\anaconda3\\envs\\topenai\\lib\\site-packages (from huggingface_hub) (4.10.0)\n",
      "Requirement already satisfied: packaging>=20.9 in c:\\users\\bibas\\anaconda3\\envs\\topenai\\lib\\site-packages (from huggingface_hub) (23.2)\n",
      "Requirement already satisfied: colorama in c:\\users\\bibas\\anaconda3\\envs\\topenai\\lib\\site-packages (from tqdm>=4.42.1->huggingface_hub) (0.4.6)\n",
      "Requirement already satisfied: charset-normalizer<4,>=2 in c:\\users\\bibas\\anaconda3\\envs\\topenai\\lib\\site-packages (from requests->huggingface_hub) (3.3.2)\n",
      "Requirement already satisfied: idna<4,>=2.5 in c:\\users\\bibas\\anaconda3\\envs\\topenai\\lib\\site-packages (from requests->huggingface_hub) (3.6)\n",
      "Requirement already satisfied: urllib3<3,>=1.21.1 in c:\\users\\bibas\\anaconda3\\envs\\topenai\\lib\\site-packages (from requests->huggingface_hub) (2.2.1)\n",
      "Requirement already satisfied: certifi>=2017.4.17 in c:\\users\\bibas\\anaconda3\\envs\\topenai\\lib\\site-packages (from requests->huggingface_hub) (2024.2.2)\n",
      "Requirement already satisfied: transformers in c:\\users\\bibas\\anaconda3\\envs\\topenai\\lib\\site-packages (4.39.1)\n",
      "Requirement already satisfied: filelock in c:\\users\\bibas\\anaconda3\\envs\\topenai\\lib\\site-packages (from transformers) (3.13.1)\n",
      "Requirement already satisfied: huggingface-hub<1.0,>=0.19.3 in c:\\users\\bibas\\anaconda3\\envs\\topenai\\lib\\site-packages (from transformers) (0.21.4)\n",
      "Requirement already satisfied: numpy>=1.17 in c:\\users\\bibas\\anaconda3\\envs\\topenai\\lib\\site-packages (from transformers) (1.24.4)\n",
      "Requirement already satisfied: packaging>=20.0 in c:\\users\\bibas\\anaconda3\\envs\\topenai\\lib\\site-packages (from transformers) (23.2)\n",
      "Requirement already satisfied: pyyaml>=5.1 in c:\\users\\bibas\\anaconda3\\envs\\topenai\\lib\\site-packages (from transformers) (6.0.1)\n",
      "Requirement already satisfied: regex!=2019.12.17 in c:\\users\\bibas\\anaconda3\\envs\\topenai\\lib\\site-packages (from transformers) (2023.12.25)\n",
      "Requirement already satisfied: requests in c:\\users\\bibas\\anaconda3\\envs\\topenai\\lib\\site-packages (from transformers) (2.31.0)\n",
      "Requirement already satisfied: tokenizers<0.19,>=0.14 in c:\\users\\bibas\\anaconda3\\envs\\topenai\\lib\\site-packages (from transformers) (0.15.2)\n",
      "Requirement already satisfied: safetensors>=0.4.1 in c:\\users\\bibas\\anaconda3\\envs\\topenai\\lib\\site-packages (from transformers) (0.4.2)\n",
      "Requirement already satisfied: tqdm>=4.27 in c:\\users\\bibas\\anaconda3\\envs\\topenai\\lib\\site-packages (from transformers) (4.66.2)\n",
      "Requirement already satisfied: fsspec>=2023.5.0 in c:\\users\\bibas\\anaconda3\\envs\\topenai\\lib\\site-packages (from huggingface-hub<1.0,>=0.19.3->transformers) (2024.3.1)\n",
      "Requirement already satisfied: typing-extensions>=3.7.4.3 in c:\\users\\bibas\\anaconda3\\envs\\topenai\\lib\\site-packages (from huggingface-hub<1.0,>=0.19.3->transformers) (4.10.0)\n",
      "Requirement already satisfied: colorama in c:\\users\\bibas\\anaconda3\\envs\\topenai\\lib\\site-packages (from tqdm>=4.27->transformers) (0.4.6)\n",
      "Requirement already satisfied: charset-normalizer<4,>=2 in c:\\users\\bibas\\anaconda3\\envs\\topenai\\lib\\site-packages (from requests->transformers) (3.3.2)\n",
      "Requirement already satisfied: idna<4,>=2.5 in c:\\users\\bibas\\anaconda3\\envs\\topenai\\lib\\site-packages (from requests->transformers) (3.6)\n",
      "Requirement already satisfied: urllib3<3,>=1.21.1 in c:\\users\\bibas\\anaconda3\\envs\\topenai\\lib\\site-packages (from requests->transformers) (2.2.1)\n",
      "Requirement already satisfied: certifi>=2017.4.17 in c:\\users\\bibas\\anaconda3\\envs\\topenai\\lib\\site-packages (from requests->transformers) (2024.2.2)\n",
      "Requirement already satisfied: accelerate in c:\\users\\bibas\\anaconda3\\envs\\topenai\\lib\\site-packages (0.28.0)\n",
      "Requirement already satisfied: numpy>=1.17 in c:\\users\\bibas\\anaconda3\\envs\\topenai\\lib\\site-packages (from accelerate) (1.24.4)\n",
      "Requirement already satisfied: packaging>=20.0 in c:\\users\\bibas\\anaconda3\\envs\\topenai\\lib\\site-packages (from accelerate) (23.2)\n",
      "Requirement already satisfied: psutil in c:\\users\\bibas\\anaconda3\\envs\\topenai\\lib\\site-packages (from accelerate) (5.9.8)\n",
      "Requirement already satisfied: pyyaml in c:\\users\\bibas\\anaconda3\\envs\\topenai\\lib\\site-packages (from accelerate) (6.0.1)\n",
      "Requirement already satisfied: torch>=1.10.0 in c:\\users\\bibas\\anaconda3\\envs\\topenai\\lib\\site-packages (from accelerate) (2.2.1)\n",
      "Requirement already satisfied: huggingface-hub in c:\\users\\bibas\\anaconda3\\envs\\topenai\\lib\\site-packages (from accelerate) (0.21.4)\n",
      "Requirement already satisfied: safetensors>=0.3.1 in c:\\users\\bibas\\anaconda3\\envs\\topenai\\lib\\site-packages (from accelerate) (0.4.2)\n",
      "Requirement already satisfied: filelock in c:\\users\\bibas\\anaconda3\\envs\\topenai\\lib\\site-packages (from torch>=1.10.0->accelerate) (3.13.1)\n",
      "Requirement already satisfied: typing-extensions>=4.8.0 in c:\\users\\bibas\\anaconda3\\envs\\topenai\\lib\\site-packages (from torch>=1.10.0->accelerate) (4.10.0)\n",
      "Requirement already satisfied: sympy in c:\\users\\bibas\\anaconda3\\envs\\topenai\\lib\\site-packages (from torch>=1.10.0->accelerate) (1.12)\n",
      "Requirement already satisfied: networkx in c:\\users\\bibas\\anaconda3\\envs\\topenai\\lib\\site-packages (from torch>=1.10.0->accelerate) (3.1)\n",
      "Requirement already satisfied: jinja2 in c:\\users\\bibas\\anaconda3\\envs\\topenai\\lib\\site-packages (from torch>=1.10.0->accelerate) (3.1.3)\n",
      "Requirement already satisfied: fsspec in c:\\users\\bibas\\anaconda3\\envs\\topenai\\lib\\site-packages (from torch>=1.10.0->accelerate) (2024.3.1)\n",
      "Requirement already satisfied: requests in c:\\users\\bibas\\anaconda3\\envs\\topenai\\lib\\site-packages (from huggingface-hub->accelerate) (2.31.0)\n",
      "Requirement already satisfied: tqdm>=4.42.1 in c:\\users\\bibas\\anaconda3\\envs\\topenai\\lib\\site-packages (from huggingface-hub->accelerate) (4.66.2)\n",
      "Requirement already satisfied: colorama in c:\\users\\bibas\\anaconda3\\envs\\topenai\\lib\\site-packages (from tqdm>=4.42.1->huggingface-hub->accelerate) (0.4.6)\n",
      "Requirement already satisfied: MarkupSafe>=2.0 in c:\\users\\bibas\\anaconda3\\envs\\topenai\\lib\\site-packages (from jinja2->torch>=1.10.0->accelerate) (2.1.5)\n",
      "Requirement already satisfied: charset-normalizer<4,>=2 in c:\\users\\bibas\\anaconda3\\envs\\topenai\\lib\\site-packages (from requests->huggingface-hub->accelerate) (3.3.2)\n",
      "Requirement already satisfied: idna<4,>=2.5 in c:\\users\\bibas\\anaconda3\\envs\\topenai\\lib\\site-packages (from requests->huggingface-hub->accelerate) (3.6)\n",
      "Requirement already satisfied: urllib3<3,>=1.21.1 in c:\\users\\bibas\\anaconda3\\envs\\topenai\\lib\\site-packages (from requests->huggingface-hub->accelerate) (2.2.1)\n",
      "Requirement already satisfied: certifi>=2017.4.17 in c:\\users\\bibas\\anaconda3\\envs\\topenai\\lib\\site-packages (from requests->huggingface-hub->accelerate) (2024.2.2)\n",
      "Requirement already satisfied: mpmath>=0.19 in c:\\users\\bibas\\anaconda3\\envs\\topenai\\lib\\site-packages (from sympy->torch>=1.10.0->accelerate) (1.3.0)\n",
      "Requirement already satisfied: bitsandbytes in c:\\users\\bibas\\anaconda3\\envs\\topenai\\lib\\site-packages (0.43.0)\n",
      "Requirement already satisfied: torch in c:\\users\\bibas\\anaconda3\\envs\\topenai\\lib\\site-packages (from bitsandbytes) (2.2.1)\n",
      "Requirement already satisfied: numpy in c:\\users\\bibas\\anaconda3\\envs\\topenai\\lib\\site-packages (from bitsandbytes) (1.24.4)\n",
      "Requirement already satisfied: filelock in c:\\users\\bibas\\anaconda3\\envs\\topenai\\lib\\site-packages (from torch->bitsandbytes) (3.13.1)\n",
      "Requirement already satisfied: typing-extensions>=4.8.0 in c:\\users\\bibas\\anaconda3\\envs\\topenai\\lib\\site-packages (from torch->bitsandbytes) (4.10.0)\n",
      "Requirement already satisfied: sympy in c:\\users\\bibas\\anaconda3\\envs\\topenai\\lib\\site-packages (from torch->bitsandbytes) (1.12)\n",
      "Requirement already satisfied: networkx in c:\\users\\bibas\\anaconda3\\envs\\topenai\\lib\\site-packages (from torch->bitsandbytes) (3.1)\n",
      "Requirement already satisfied: jinja2 in c:\\users\\bibas\\anaconda3\\envs\\topenai\\lib\\site-packages (from torch->bitsandbytes) (3.1.3)\n",
      "Requirement already satisfied: fsspec in c:\\users\\bibas\\anaconda3\\envs\\topenai\\lib\\site-packages (from torch->bitsandbytes) (2024.3.1)\n",
      "Requirement already satisfied: MarkupSafe>=2.0 in c:\\users\\bibas\\anaconda3\\envs\\topenai\\lib\\site-packages (from jinja2->torch->bitsandbytes) (2.1.5)\n",
      "Requirement already satisfied: mpmath>=0.19 in c:\\users\\bibas\\anaconda3\\envs\\topenai\\lib\\site-packages (from sympy->torch->bitsandbytes) (1.3.0)\n"
     ]
    }
   ],
   "source": [
    "!pip install huggingface_hub\n",
    "!pip install transformers\n",
    "!pip install accelerate\n",
    "!pip install  bitsandbytes"
   ]
  },
  {
   "cell_type": "markdown",
   "id": "f0d81e54-9a9f-4315-9ada-faac1366a555",
   "metadata": {},
   "source": [
    "# Step 02: Import All the Required Libraries"
   ]
  },
  {
   "cell_type": "code",
   "execution_count": 1,
   "id": "6bc91f9b-3dca-40b5-92c0-c3f6358b63a4",
   "metadata": {},
   "outputs": [],
   "source": [
    "from langchain import PromptTemplate, HuggingFaceHub, LLMChain"
   ]
  },
  {
   "cell_type": "markdown",
   "id": "71af6fe1-2e44-4f5c-8034-69dd6869212c",
   "metadata": {},
   "source": [
    "# Step 03: Setting the Environment"
   ]
  },
  {
   "cell_type": "code",
   "execution_count": 6,
   "id": "05db9693-2dc4-42ac-833b-d072b305a952",
   "metadata": {},
   "outputs": [],
   "source": [
    "import os\n",
    "os.environ['HUGGINGFACEHUB_API_TOKEN']=\"\" #huggingface access token"
   ]
  },
  {
   "cell_type": "markdown",
   "id": "dcaea76f-2cff-4d0a-9e2e-c591fb323d53",
   "metadata": {},
   "source": [
    "### Text2Text Generation Models | Seq2Seq Models | Encoder-Decoder Models"
   ]
  },
  {
   "cell_type": "code",
   "execution_count": 35,
   "id": "d68aa1f1-b4f7-4c03-840e-aaceeac4d753",
   "metadata": {},
   "outputs": [],
   "source": [
    "prompt = PromptTemplate(\n",
    "    input_variables = [\"product\"],\n",
    "    template = \"What is a good name for a company that makes {product}\"\n",
    ")"
   ]
  },
  {
   "cell_type": "code",
   "execution_count": 36,
   "id": "f57aa986-ddab-4b40-a22d-3ac9efda08ed",
   "metadata": {},
   "outputs": [],
   "source": [
    "chain = LLMChain(llm = HuggingFaceHub(repo_id = 'google/flan-t5-large', model_kwargs = {'temperature':0}), prompt = prompt)"
   ]
  },
  {
   "cell_type": "code",
   "execution_count": 37,
   "id": "87478403-49a7-4981-a7b3-3e5f3ab5869b",
   "metadata": {},
   "outputs": [
    {
     "data": {
      "text/plain": [
       "'kwikset'"
      ]
     },
     "execution_count": 37,
     "metadata": {},
     "output_type": "execute_result"
    }
   ],
   "source": [
    "chain.run(\"keys\")"
   ]
  },
  {
   "cell_type": "code",
   "execution_count": 38,
   "id": "c40e1eb8-364e-4872-8a3c-03339be3988d",
   "metadata": {},
   "outputs": [],
   "source": [
    "chain2 = LLMChain(llm = HuggingFaceHub(repo_id = 'facebook/mbart-large-50', model_kwargs = {'temperature':0.5}), prompt = prompt) # failed"
   ]
  },
  {
   "cell_type": "code",
   "execution_count": 39,
   "id": "bb7bb7b1-aa4e-422f-821e-a02b906344b9",
   "metadata": {},
   "outputs": [
    {
     "data": {
      "text/plain": [
       "'What is a good name for a company that makes keys'"
      ]
     },
     "execution_count": 39,
     "metadata": {},
     "output_type": "execute_result"
    }
   ],
   "source": [
    "chain2.run(\"keys\") "
   ]
  },
  {
   "cell_type": "code",
   "execution_count": 40,
   "id": "ae402445-8bf3-4fa0-a469-4ad50a149352",
   "metadata": {},
   "outputs": [],
   "source": [
    "chain3 = LLMChain(llm = HuggingFaceHub(repo_id = 'roborovski/superprompt-v1', model_kwargs = {'temperature':0.5}),prompt = prompt) # failedroborovski/superprompt-v1"
   ]
  },
  {
   "cell_type": "code",
   "execution_count": 41,
   "id": "7d64a5df-ea48-442f-a851-f16e78f42aa4",
   "metadata": {},
   "outputs": [
    {
     "data": {
      "text/plain": [
       "'gleaming gold-plated steel company'"
      ]
     },
     "execution_count": 41,
     "metadata": {},
     "output_type": "execute_result"
    }
   ],
   "source": [
    "chain3.run(\"keys\")"
   ]
  },
  {
   "cell_type": "markdown",
   "id": "22cd3043-43d9-4b53-86ee-ff5a0a06098f",
   "metadata": {},
   "source": [
    "# Text Generation Models | Decoder Only Models"
   ]
  },
  {
   "cell_type": "code",
   "execution_count": 45,
   "id": "70243335-156c-4213-9983-905e80316413",
   "metadata": {},
   "outputs": [],
   "source": [
    "from langchain.llms import HuggingFacePipeline\n",
    "import torch\n",
    "from transformers import AutoTokenizer, AutoModelForCausalLM, pipeline, AutoModelForSeq2SeqLM"
   ]
  },
  {
   "cell_type": "code",
   "execution_count": 46,
   "id": "fc2f7cb1-69d3-4d19-a0fb-b8ef709488d2",
   "metadata": {},
   "outputs": [],
   "source": [
    "model_id='google/flan-t5-large'"
   ]
  },
  {
   "cell_type": "code",
   "execution_count": 47,
   "id": "33b1e60c-5390-43fb-b79c-15c02c2c7627",
   "metadata": {},
   "outputs": [
    {
     "data": {
      "application/vnd.jupyter.widget-view+json": {
       "model_id": "4548fff1d4d34d8894d0b6b8fa14b7bb",
       "version_major": 2,
       "version_minor": 0
      },
      "text/plain": [
       "tokenizer_config.json:   0%|          | 0.00/2.54k [00:00<?, ?B/s]"
      ]
     },
     "metadata": {},
     "output_type": "display_data"
    },
    {
     "name": "stderr",
     "output_type": "stream",
     "text": [
      "C:\\Users\\bibas\\anaconda3\\envs\\topenai\\lib\\site-packages\\huggingface_hub\\file_download.py:149: UserWarning: `huggingface_hub` cache-system uses symlinks by default to efficiently store duplicated files but your machine does not support them in C:\\Users\\bibas\\.cache\\huggingface\\hub\\models--google--flan-t5-large. Caching files will still work but in a degraded version that might require more space on your disk. This warning can be disabled by setting the `HF_HUB_DISABLE_SYMLINKS_WARNING` environment variable. For more details, see https://huggingface.co/docs/huggingface_hub/how-to-cache#limitations.\n",
      "To support symlinks on Windows, you either need to activate Developer Mode or to run Python as an administrator. In order to see activate developer mode, see this article: https://docs.microsoft.com/en-us/windows/apps/get-started/enable-your-device-for-development\n",
      "  warnings.warn(message)\n"
     ]
    },
    {
     "data": {
      "application/vnd.jupyter.widget-view+json": {
       "model_id": "6dfca7aea10243dc944b47c3b6630903",
       "version_major": 2,
       "version_minor": 0
      },
      "text/plain": [
       "spiece.model:   0%|          | 0.00/792k [00:00<?, ?B/s]"
      ]
     },
     "metadata": {},
     "output_type": "display_data"
    },
    {
     "data": {
      "application/vnd.jupyter.widget-view+json": {
       "model_id": "0f21c6fc19024865bedf9344d410188c",
       "version_major": 2,
       "version_minor": 0
      },
      "text/plain": [
       "tokenizer.json:   0%|          | 0.00/2.42M [00:00<?, ?B/s]"
      ]
     },
     "metadata": {},
     "output_type": "display_data"
    },
    {
     "data": {
      "application/vnd.jupyter.widget-view+json": {
       "model_id": "879b02cb2276425babac40287a665df2",
       "version_major": 2,
       "version_minor": 0
      },
      "text/plain": [
       "special_tokens_map.json:   0%|          | 0.00/2.20k [00:00<?, ?B/s]"
      ]
     },
     "metadata": {},
     "output_type": "display_data"
    }
   ],
   "source": [
    "tokenizer = AutoTokenizer.from_pretrained(model_id)"
   ]
  },
  {
   "cell_type": "code",
   "execution_count": 48,
   "id": "b42c3be7-fd38-4fba-a43d-1930820783fe",
   "metadata": {},
   "outputs": [
    {
     "data": {
      "application/vnd.jupyter.widget-view+json": {
       "model_id": "1fbdd052d7af48a5ac054264a11e6d8b",
       "version_major": 2,
       "version_minor": 0
      },
      "text/plain": [
       "config.json:   0%|          | 0.00/662 [00:00<?, ?B/s]"
      ]
     },
     "metadata": {},
     "output_type": "display_data"
    },
    {
     "data": {
      "application/vnd.jupyter.widget-view+json": {
       "model_id": "70d6fc6ee3c948358c2bd9e6ee21676a",
       "version_major": 2,
       "version_minor": 0
      },
      "text/plain": [
       "model.safetensors:   0%|          | 0.00/3.13G [00:00<?, ?B/s]"
      ]
     },
     "metadata": {},
     "output_type": "display_data"
    },
    {
     "data": {
      "application/vnd.jupyter.widget-view+json": {
       "model_id": "95098499e2704cddab19ffb98267f171",
       "version_major": 2,
       "version_minor": 0
      },
      "text/plain": [
       "generation_config.json:   0%|          | 0.00/147 [00:00<?, ?B/s]"
      ]
     },
     "metadata": {},
     "output_type": "display_data"
    }
   ],
   "source": [
    "model = AutoModelForSeq2SeqLM.from_pretrained(model_id, device_map = 'auto')"
   ]
  },
  {
   "cell_type": "code",
   "execution_count": null,
   "id": "9af25e3e-e992-4126-8163-c6b4b6e48666",
   "metadata": {},
   "outputs": [],
   "source": [
    "pipeline = pipeline( \"text2text-generaition\", model = model, tokenizer = tokenizer, max_length = 128)"
   ]
  },
  {
   "cell_type": "code",
   "execution_count": 51,
   "id": "f32852cf-3daf-4994-98b3-d2060f24421d",
   "metadata": {},
   "outputs": [],
   "source": [
    "local_llm = HuggingFacePipeline(pipeline = pipeline)"
   ]
  },
  {
   "cell_type": "code",
   "execution_count": 52,
   "id": "4b90127e-6fb5-4e74-90b5-2829964ea3b4",
   "metadata": {},
   "outputs": [],
   "source": [
    "prompt = PromptTemplate(\n",
    "    input_variables = [\"name\"],\n",
    "    template = \"Can you tell me about this footballer: {name}\"\n",
    ")"
   ]
  },
  {
   "cell_type": "code",
   "execution_count": 53,
   "id": "bcfc45ae-e003-45b5-870e-784919da3b3f",
   "metadata": {},
   "outputs": [],
   "source": [
    "chain = LLMChain(llm = local_llm, prompt = prompt)"
   ]
  },
  {
   "cell_type": "code",
   "execution_count": 54,
   "id": "4594094b-6ac4-45e9-9a68-ecf6a1f41af9",
   "metadata": {},
   "outputs": [
    {
     "data": {
      "text/plain": [
       "'Sunil Chetri (born 10 August 1997) is a Sri Lankan footballer who plays for Sri Lanka national football team.'"
      ]
     },
     "execution_count": 54,
     "metadata": {},
     "output_type": "execute_result"
    }
   ],
   "source": [
    "chain.run(\"Sunil Chetri\")"
   ]
  },
  {
   "cell_type": "code",
   "execution_count": 55,
   "id": "ef891e7e-b4eb-4825-93d3-2f708b1db167",
   "metadata": {},
   "outputs": [
    {
     "data": {
      "text/plain": [
       "'Virat Kholi (born 8 August 1998) is a Sri Lankan footballer who plays for Sri Lanka national football team.'"
      ]
     },
     "execution_count": 55,
     "metadata": {},
     "output_type": "execute_result"
    }
   ],
   "source": [
    "chain.run(\"Virat Kholi\") #lol"
   ]
  },
  {
   "cell_type": "code",
   "execution_count": null,
   "id": "916b14e2-321a-414f-b101-d266da241f4b",
   "metadata": {},
   "outputs": [],
   "source": []
  }
 ],
 "metadata": {
  "kernelspec": {
   "display_name": "Python 3 (ipykernel)",
   "language": "python",
   "name": "python3"
  },
  "language_info": {
   "codemirror_mode": {
    "name": "ipython",
    "version": 3
   },
   "file_extension": ".py",
   "mimetype": "text/x-python",
   "name": "python",
   "nbconvert_exporter": "python",
   "pygments_lexer": "ipython3",
   "version": "3.8.1"
  }
 },
 "nbformat": 4,
 "nbformat_minor": 5
}
